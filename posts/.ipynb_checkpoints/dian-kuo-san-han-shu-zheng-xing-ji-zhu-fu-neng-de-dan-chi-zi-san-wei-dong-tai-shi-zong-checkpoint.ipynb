{
 "cells": [
  {
   "cell_type": "markdown",
   "id": "f86ab033",
   "metadata": {},
   "source": [
    "# 点扩散函数整形赋能的单离子三维动态示踪"
   ]
  },
  {
   "cell_type": "markdown",
   "id": "342fc65c",
   "metadata": {},
   "source": [
    "## 引入"
   ]
  },
  {
   "cell_type": "markdown",
   "id": "56ea36fa",
   "metadata": {},
   "source": [
    "在真空中被冷却到微开尔文量级的原子和离子具有高保真度的量子态和超窄的跃迁谱线，而这些信息的获取依赖于高灵敏度且高精度的荧光探测和成像。冷原子系统中的核心实验技术之一是单粒子可分辨的高精度荧光成像，用以提供微观粒子荧光强度、内态外态、粒子空间位置等多个维度的信息。然而真空环境、陷俘电磁场、冷却激光等因素的存在使得冷原子实验系统具有极高的复杂度，高分辨率、多维度的并行先进成像技术尚未发展成熟。现有的量子气体显微镜受限于二维，无法对三维势阱格点中的单个原子进行分辨。而基于扫描的技术如受激耗尽超分辨成像，仅适用于小规模静态体系，无法对粒子数目较多的复杂体系和动态变化的过程进行成像。"
   ]
  },
  {
   "cell_type": "markdown",
   "id": "6bb2e9ce",
   "metadata": {},
   "source": [
    "Write your post here."
   ]
  }
 ],
 "metadata": {
  "kernelspec": {
   "display_name": "Python 3 (ipykernel)",
   "language": "python",
   "name": "python3"
  },
  "language_info": {
   "codemirror_mode": {
    "name": "ipython",
    "version": 3
   },
   "file_extension": ".py",
   "mimetype": "text/x-python",
   "name": "python",
   "nbconvert_exporter": "python",
   "pygments_lexer": "ipython3",
   "version": "3.10.9"
  },
  "nikola": {
   "category": "",
   "date": "2025-01-19 18:26:01 UTC+08:00",
   "description": "",
   "link": "",
   "slug": "dian-kuo-san-han-shu-zheng-xing-ji-zhu-fu-neng-de-dan-chi-zi-san-wei-dong-tai-shi-zong",
   "tags": "",
   "title": "点扩散函数整形技术赋能的单离子三维动态示踪",
   "type": "text"
  }
 },
 "nbformat": 4,
 "nbformat_minor": 5
}
