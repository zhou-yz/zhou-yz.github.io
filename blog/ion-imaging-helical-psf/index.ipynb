{
 "cells": [
  {
   "cell_type": "markdown",
   "id": "ed0d9abc",
   "metadata": {},
   "source": [
    "# 双螺旋荧光点扩散函数赋能囚禁单离子三维动态示踪"
   ]
  },
  {
   "cell_type": "markdown",
   "id": "7adac97b",
   "metadata": {},
   "source": [
    "#### 针对微观冷原子/离子体系中动态、大范围、高精度探测手段缺乏的问题，我们通过调制离子荧光的空间相位得到双螺旋点扩散函数（double-helical point spread function），首次直接观测到囚禁在电四极阱中单个钙离子的三维受迫振动和库仑晶体的空间结构相变"
   ]
  },
  {
   "cell_type": "markdown",
   "id": "b1406f16",
   "metadata": {},
   "source": [
    "在真空中被冷却到微开尔文量级的原子和离子具有高保真度的量子态和超窄的跃迁谱线，而这些信息的获取依赖于高灵敏度且高精度的荧光探测和成像。冷原子系统中的核心实验技术之一是单粒子可分辨的高精度荧光成像，用以提供微观粒子荧光强度、内态外态、粒子空间位置等多个维度的信息。然而真空环境、陷俘电磁场、冷却激光等因素的存在使得冷原子实验系统具有极高的复杂度，高分辨率、多维度的并行先进成像技术尚未发展成熟。现有的量子气体显微镜受限于二维，无法对三维势阱格点中的单个原子进行分辨。而基于扫描的技术如受激耗尽超分辨成像，仅适用于小规模静态体系，无法对粒子数目较多的复杂体系和动态变化的过程进行成像。"
   ]
  }
 ],
 "metadata": {
  "kernelspec": {
   "display_name": "Python 3 (ipykernel)",
   "language": "python",
   "name": "python3"
  },
  "language_info": {
   "codemirror_mode": {
    "name": "ipython",
    "version": 3
   },
   "file_extension": ".py",
   "mimetype": "text/x-python",
   "name": "python",
   "nbconvert_exporter": "python",
   "pygments_lexer": "ipython3",
   "version": "3.10.9"
  },
  "nikola": {
   "category": "",
   "date": "2025-01-26 11:49:45 UTC+08:00",
   "description": "",
   "link": "",
   "slug": "ion-imaging-helical-psf",
   "tags": "",
   "title": "ion-imaging-helical-PSF",
   "type": "text"
  }
 },
 "nbformat": 4,
 "nbformat_minor": 5
}
